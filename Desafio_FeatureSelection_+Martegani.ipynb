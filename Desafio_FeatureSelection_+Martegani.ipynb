{
  "nbformat": 4,
  "nbformat_minor": 0,
  "metadata": {
    "colab": {
      "provenance": [],
      "collapsed_sections": []
    },
    "kernelspec": {
      "name": "python3",
      "display_name": "Python 3"
    },
    "language_info": {
      "name": "python"
    }
  },
  "cells": [
    {
      "cell_type": "markdown",
      "source": [
        "# Abstract:\n",
        "\n",
        "La pandemia de COVID-19 vino a romper los esquemas y nos llevó a cuestionar nuestra visión en una gran cantidad de aspectos, entre ellas, la forma en que nos alimentamos. De repente, la idea de consumir alimentos ultraprocesados o monocultivos como la soja transgénica pareció el \"apocalipsis\" y la búsqueda de los productos orgánicos y agroecológicos, nuestra \"luz al final del tunel\".\n",
        "\n",
        "Las grandes cadenas de supermercados han identificado esta nueva necesidad y han intentado actuar acorde a ello, pero, ¿han logrado \"convencer\" al público de que venden productos más sanos? ¿en qué se diferencian estos nuevos clientes de los anteriores? ¿ es posible aumentar la ganancia de las tiendas a costa de productos más caros y sofisticados?\n",
        "\n",
        "\n",
        "\n",
        "\n"
      ],
      "metadata": {
        "id": "QQDjSaUS7Qzk"
      }
    },
    {
      "cell_type": "markdown",
      "source": [
        "\n",
        "**Definición de objetivos:**\n",
        "1.   Se quiere comprobar si es posible hacer una caracterización del perfil de los compradores con el fin de segmentar la cartera de una forma más adecuada e implementar alguna acción concreta que resulte en un mayor revenue para la empresa.\n",
        "2.   Adicionalmente, se quiere analizar si el programa de fidelidad de clientes tiene impacto en los ingresos de la empresa y, en caso afirmativo, si es posible hacer una estimación del mismo a futuro.\n",
        "\n",
        "\n",
        "---\n",
        "\n",
        "\n",
        "\n",
        "**Contexto comercial:**\n",
        "\n",
        "La forma en que nos alimentamos cobra cada día más relevancia. El rechazo a los productos ultraprocesados y la vuelta a \"lo natural\" es cada vez más notorio. Las sociedades modernas, al tiempo que buscan mejorar su alimentación, intentan simplificar los procesos de compra con el objeto de centralizar todo en un solo lugar. \n",
        "\n",
        "Históricamente, los productos orgánicos fueron vendidos en dietéticas y tiendas naturistas, siempre estuvieron por fuera del surtido de productos de las grandes cadenas puesto que sus precios siempre fueron más elevados que los de los FMCG. Al estar hoy en el foco de atención, los detallistas tienen la oportunidad de explotar dicho nicho de productos, buscando la manera de dar respuesta a esta nueva demanda sin asumir pérdidas en el intento.\n",
        "\n",
        "\n",
        "---\n",
        "\n",
        "\n",
        "**Problema comercial:**\n",
        "Los productos orgánicos poseen precios más elevados que los demás puesto que su fabricación se hace en menor escala y con controles mucho más estrictos. Las grandes cadenas se dedican principalmente a comercializar productos de precios intermedios-bajos, por lo que, la venta de productos orgánicos, resulta difícil. A raíz de todo esto, vienen a la mente las siguientes cuestiones:\n",
        "\n",
        "\n",
        "> ¿Cómo **atraer** a los consumidores de productos orgánicos?\n",
        "\n",
        "\n",
        "> ¿Cómo **aumentar** ese número de consumidores? \n",
        "\n",
        "\n",
        "> ¿Cómo **identificar** potenciales consumidores?\n",
        "\n",
        "\n",
        "---\n",
        "\n",
        "**Contexto Analítico:**\n",
        "\n",
        "Se utilizará una base de datos proveniente de una cadena de supermercados de Reino Unido que ha decidido poner a la venta una nueva linea de productos orgánicos y, para incentivar su compra, ha brindado cupones de descuento para productos orgánicos a los clientes que participan en los programas de fidelidad. \n",
        "La base incluye información de edad, ubicación geográfica, género, nivel de afiliación al programa de beneficios, nivel de gasto en el supermercado y un indicador respecto a la compra o no de productos orgánicos, para un listado de alrededor de 20.000 clientes.\n",
        "\n",
        "Se desconoce el nombre del detallista que ha implementado dicha medida, sin embargo, la base de datos utilizada puede encontrarse en el siguiente link de Kaggle:  https://www.kaggle.com/datasets/papercool/organics-purchase-indicator?select=organics.csv\n",
        "\n",
        "---\n",
        "\n",
        "**Recomendaciones:**\n",
        "* Continuar con los descuentos de acuerdo al nivel de fidelidad\n",
        "* Implementar descuentos por edades para aquellos clientes que no forman parte del programa de fidelidad. Ejemplo: descuentos para jóvenes, descuentos para jubilados, etc.\n",
        "* Informar a los clientes sobre los beneficios del consumo de este tipo de productos para la salud. \n",
        "---"
      ],
      "metadata": {
        "id": "c1ZwH0FC5X2L"
      }
    },
    {
      "cell_type": "markdown",
      "source": [
        " **Diccionario de variables:**\n",
        "\n",
        "\n",
        "*   **cust_loy_id**: *numero identificatorio del programa de fidelidad del cliente*\n",
        "*   **Gender**: *género del cliente*\n",
        "*   **geographic_region**: *región geográfica donde hace sus compras el cliente*\n",
        "*   **loyalty_status**: *nivel de status del cliente de acuerdo al programa de lealtad*\n",
        "*   **Neigborhood Cluster-55 Level**: *grupo vecindario al que pertenece el cliente*\n",
        "*   **Neighborhood Cluster-7 Level**: *tipo de barrio al que pertenece el cliente*\n",
        "*   **Television Region**: *región televisiva a la que pertenece el cliente*\n",
        "*   **Affluence Grade**: *grado de afluencia del cliente*\n",
        "*   **Age**: *edad del cliente*\n",
        "*   **Loyalty Card Tenure**: *tiempo transcurrido como miembro del programa de fidelidad de cada cliente*\n",
        "*   **Organics Purchase Count**: *numero de productos orgánicos comprados por cada cliente*\n",
        "*   **organic_purch_indic**: *indica si el cliente compró (1) o no (0) productos orgánicos*\n",
        "*   **total_spend**: *monto total gastado por el cliente*\n",
        "\n",
        "\n",
        "\n",
        "\n",
        "\n",
        "\n",
        "---\n"
      ],
      "metadata": {
        "id": "qbajrwy1Gh0y"
      }
    },
    {
      "cell_type": "code",
      "execution_count": null,
      "metadata": {
        "id": "yi5WD7QD8nHq"
      },
      "outputs": [],
      "source": [
        "import matplotlib as mpl\n",
        "import matplotlib.pyplot as plt\n",
        "import seaborn as sns\n",
        "import pandas as pd\n",
        "\n",
        "from   scipy import stats\n",
        "import numpy  as np\n",
        "import statsmodels.formula.api as sm\n",
        "from sklearn.preprocessing import MinMaxScaler\n",
        "import os\n",
        "from sklearn.preprocessing import LabelEncoder\n",
        "from sklearn.pipeline import Pipeline\n",
        "\n",
        "from sklearn import cluster\n",
        "from sklearn.decomposition import PCA\n",
        "from sklearn.cluster import AgglomerativeClustering\n",
        "from sklearn.preprocessing import StandardScaler, normalize\n",
        "from sklearn.model_selection import train_test_split\n",
        "from sklearn.metrics import silhouette_score\n",
        "import scipy.cluster.hierarchy as shc\n",
        "\n",
        "from sklearn.cluster import KMeans\n",
        "from sklearn.metrics import davies_bouldin_score"
      ]
    },
    {
      "cell_type": "code",
      "source": [
        "df_organics= pd.read_csv('organics.csv',sep=',')\n",
        "df_organics= df_organics.rename(columns={'Loyalty Status': \"loyalty_status\",'Customer Loyalty ID':'cust_loy_id','Total Spend':'total_spend','Organics Purchase Indicator':'organic_purch_indic','Geographic Region':'geographic_region','Neigborhood Cluster-55 Level':'Neigh_clust_55_lvl','Neighborhood Cluster-7 Level':'Neigh_clust_7_lvl','Television Region':'tv_region'})\n",
        "df_organics\n",
        "#df_organics.describe(include=[object]).T\n",
        "#df_organics.info()"
      ],
      "metadata": {
        "id": "_-gjUMxzAbhL",
        "colab": {
          "base_uri": "https://localhost:8080/",
          "height": 574
        },
        "outputId": "7e906ea3-4233-41a3-b43b-151cf15b4b90"
      },
      "execution_count": null,
      "outputs": [
        {
          "output_type": "execute_result",
          "data": {
            "text/plain": [
              "       cust_loy_id Gender geographic_region loyalty_status  \\\n",
              "0              140      U          Midlands           Gold   \n",
              "1              620      U          Midlands           Gold   \n",
              "2              868      F          Midlands         Silver   \n",
              "3             1120      M          Midlands            Tin   \n",
              "4             2313      F          Midlands            Tin   \n",
              "...            ...    ...               ...            ...   \n",
              "22218     52834058      F        South East         Silver   \n",
              "22219     52834376      U        South East           Gold   \n",
              "22220     52837057      F             North           Gold   \n",
              "22221     52838096      F             North         Silver   \n",
              "22222     52856469    NaN        South West           Gold   \n",
              "\n",
              "       Neigh_clust_55_lvl Neigh_clust_7_lvl     tv_region Affluence Grade Age  \\\n",
              "0                    16.0                 C  Wales & West              10  76   \n",
              "1                    35.0                 D  Wales & West               4  49   \n",
              "2                    27.0                 D  Wales & West               5  70   \n",
              "3                    51.0                 F      Midlands              10  65   \n",
              "4                     4.0                 A      Midlands              11  68   \n",
              "...                   ...               ...           ...             ...  ..   \n",
              "22218                 9.0                 B        London              13  65   \n",
              "22219                34.0                 D    S & S East              15  73   \n",
              "22220                15.0                 B     Yorkshire               9  70   \n",
              "22221                 8.0                 B        N West              11  66   \n",
              "22222                53.0                 F        S West               3  75   \n",
              "\n",
              "       Frequency Frequency Percent Loyalty Card Tenure  \\\n",
              "0              1             0.00%                   4   \n",
              "1              1             0.00%                   5   \n",
              "2              1             0.00%                   8   \n",
              "3              1             0.00%                   7   \n",
              "4              1             0.00%                   8   \n",
              "...          ...               ...                 ...   \n",
              "22218          1             0.00%                   5   \n",
              "22219          1             0.00%                  12   \n",
              "22220          1             0.00%                   5   \n",
              "22221          1             0.00%                   5   \n",
              "22222          1             0.00%                   2   \n",
              "\n",
              "       Organics Purchase Count  organic_purch_indic  total_spend  \n",
              "0                            0                    0     16000.00  \n",
              "1                            0                    0      6000.00  \n",
              "2                            1                    1         0.02  \n",
              "3                            1                    1         0.01  \n",
              "4                            0                    0         0.01  \n",
              "...                        ...                  ...          ...  \n",
              "22218                        0                    0      1500.00  \n",
              "22219                        0                    0      6053.06  \n",
              "22220                        0                    0      6000.00  \n",
              "22221                        0                    0      5000.00  \n",
              "22222                        0                    0      6000.00  \n",
              "\n",
              "[22223 rows x 15 columns]"
            ],
            "text/html": [
              "\n",
              "  <div id=\"df-8e177f23-590e-48c0-a7c3-6f70a6cfe027\">\n",
              "    <div class=\"colab-df-container\">\n",
              "      <div>\n",
              "<style scoped>\n",
              "    .dataframe tbody tr th:only-of-type {\n",
              "        vertical-align: middle;\n",
              "    }\n",
              "\n",
              "    .dataframe tbody tr th {\n",
              "        vertical-align: top;\n",
              "    }\n",
              "\n",
              "    .dataframe thead th {\n",
              "        text-align: right;\n",
              "    }\n",
              "</style>\n",
              "<table border=\"1\" class=\"dataframe\">\n",
              "  <thead>\n",
              "    <tr style=\"text-align: right;\">\n",
              "      <th></th>\n",
              "      <th>cust_loy_id</th>\n",
              "      <th>Gender</th>\n",
              "      <th>geographic_region</th>\n",
              "      <th>loyalty_status</th>\n",
              "      <th>Neigh_clust_55_lvl</th>\n",
              "      <th>Neigh_clust_7_lvl</th>\n",
              "      <th>tv_region</th>\n",
              "      <th>Affluence Grade</th>\n",
              "      <th>Age</th>\n",
              "      <th>Frequency</th>\n",
              "      <th>Frequency Percent</th>\n",
              "      <th>Loyalty Card Tenure</th>\n",
              "      <th>Organics Purchase Count</th>\n",
              "      <th>organic_purch_indic</th>\n",
              "      <th>total_spend</th>\n",
              "    </tr>\n",
              "  </thead>\n",
              "  <tbody>\n",
              "    <tr>\n",
              "      <th>0</th>\n",
              "      <td>140</td>\n",
              "      <td>U</td>\n",
              "      <td>Midlands</td>\n",
              "      <td>Gold</td>\n",
              "      <td>16.0</td>\n",
              "      <td>C</td>\n",
              "      <td>Wales &amp; West</td>\n",
              "      <td>10</td>\n",
              "      <td>76</td>\n",
              "      <td>1</td>\n",
              "      <td>0.00%</td>\n",
              "      <td>4</td>\n",
              "      <td>0</td>\n",
              "      <td>0</td>\n",
              "      <td>16000.00</td>\n",
              "    </tr>\n",
              "    <tr>\n",
              "      <th>1</th>\n",
              "      <td>620</td>\n",
              "      <td>U</td>\n",
              "      <td>Midlands</td>\n",
              "      <td>Gold</td>\n",
              "      <td>35.0</td>\n",
              "      <td>D</td>\n",
              "      <td>Wales &amp; West</td>\n",
              "      <td>4</td>\n",
              "      <td>49</td>\n",
              "      <td>1</td>\n",
              "      <td>0.00%</td>\n",
              "      <td>5</td>\n",
              "      <td>0</td>\n",
              "      <td>0</td>\n",
              "      <td>6000.00</td>\n",
              "    </tr>\n",
              "    <tr>\n",
              "      <th>2</th>\n",
              "      <td>868</td>\n",
              "      <td>F</td>\n",
              "      <td>Midlands</td>\n",
              "      <td>Silver</td>\n",
              "      <td>27.0</td>\n",
              "      <td>D</td>\n",
              "      <td>Wales &amp; West</td>\n",
              "      <td>5</td>\n",
              "      <td>70</td>\n",
              "      <td>1</td>\n",
              "      <td>0.00%</td>\n",
              "      <td>8</td>\n",
              "      <td>1</td>\n",
              "      <td>1</td>\n",
              "      <td>0.02</td>\n",
              "    </tr>\n",
              "    <tr>\n",
              "      <th>3</th>\n",
              "      <td>1120</td>\n",
              "      <td>M</td>\n",
              "      <td>Midlands</td>\n",
              "      <td>Tin</td>\n",
              "      <td>51.0</td>\n",
              "      <td>F</td>\n",
              "      <td>Midlands</td>\n",
              "      <td>10</td>\n",
              "      <td>65</td>\n",
              "      <td>1</td>\n",
              "      <td>0.00%</td>\n",
              "      <td>7</td>\n",
              "      <td>1</td>\n",
              "      <td>1</td>\n",
              "      <td>0.01</td>\n",
              "    </tr>\n",
              "    <tr>\n",
              "      <th>4</th>\n",
              "      <td>2313</td>\n",
              "      <td>F</td>\n",
              "      <td>Midlands</td>\n",
              "      <td>Tin</td>\n",
              "      <td>4.0</td>\n",
              "      <td>A</td>\n",
              "      <td>Midlands</td>\n",
              "      <td>11</td>\n",
              "      <td>68</td>\n",
              "      <td>1</td>\n",
              "      <td>0.00%</td>\n",
              "      <td>8</td>\n",
              "      <td>0</td>\n",
              "      <td>0</td>\n",
              "      <td>0.01</td>\n",
              "    </tr>\n",
              "    <tr>\n",
              "      <th>...</th>\n",
              "      <td>...</td>\n",
              "      <td>...</td>\n",
              "      <td>...</td>\n",
              "      <td>...</td>\n",
              "      <td>...</td>\n",
              "      <td>...</td>\n",
              "      <td>...</td>\n",
              "      <td>...</td>\n",
              "      <td>...</td>\n",
              "      <td>...</td>\n",
              "      <td>...</td>\n",
              "      <td>...</td>\n",
              "      <td>...</td>\n",
              "      <td>...</td>\n",
              "      <td>...</td>\n",
              "    </tr>\n",
              "    <tr>\n",
              "      <th>22218</th>\n",
              "      <td>52834058</td>\n",
              "      <td>F</td>\n",
              "      <td>South East</td>\n",
              "      <td>Silver</td>\n",
              "      <td>9.0</td>\n",
              "      <td>B</td>\n",
              "      <td>London</td>\n",
              "      <td>13</td>\n",
              "      <td>65</td>\n",
              "      <td>1</td>\n",
              "      <td>0.00%</td>\n",
              "      <td>5</td>\n",
              "      <td>0</td>\n",
              "      <td>0</td>\n",
              "      <td>1500.00</td>\n",
              "    </tr>\n",
              "    <tr>\n",
              "      <th>22219</th>\n",
              "      <td>52834376</td>\n",
              "      <td>U</td>\n",
              "      <td>South East</td>\n",
              "      <td>Gold</td>\n",
              "      <td>34.0</td>\n",
              "      <td>D</td>\n",
              "      <td>S &amp; S East</td>\n",
              "      <td>15</td>\n",
              "      <td>73</td>\n",
              "      <td>1</td>\n",
              "      <td>0.00%</td>\n",
              "      <td>12</td>\n",
              "      <td>0</td>\n",
              "      <td>0</td>\n",
              "      <td>6053.06</td>\n",
              "    </tr>\n",
              "    <tr>\n",
              "      <th>22220</th>\n",
              "      <td>52837057</td>\n",
              "      <td>F</td>\n",
              "      <td>North</td>\n",
              "      <td>Gold</td>\n",
              "      <td>15.0</td>\n",
              "      <td>B</td>\n",
              "      <td>Yorkshire</td>\n",
              "      <td>9</td>\n",
              "      <td>70</td>\n",
              "      <td>1</td>\n",
              "      <td>0.00%</td>\n",
              "      <td>5</td>\n",
              "      <td>0</td>\n",
              "      <td>0</td>\n",
              "      <td>6000.00</td>\n",
              "    </tr>\n",
              "    <tr>\n",
              "      <th>22221</th>\n",
              "      <td>52838096</td>\n",
              "      <td>F</td>\n",
              "      <td>North</td>\n",
              "      <td>Silver</td>\n",
              "      <td>8.0</td>\n",
              "      <td>B</td>\n",
              "      <td>N West</td>\n",
              "      <td>11</td>\n",
              "      <td>66</td>\n",
              "      <td>1</td>\n",
              "      <td>0.00%</td>\n",
              "      <td>5</td>\n",
              "      <td>0</td>\n",
              "      <td>0</td>\n",
              "      <td>5000.00</td>\n",
              "    </tr>\n",
              "    <tr>\n",
              "      <th>22222</th>\n",
              "      <td>52856469</td>\n",
              "      <td>NaN</td>\n",
              "      <td>South West</td>\n",
              "      <td>Gold</td>\n",
              "      <td>53.0</td>\n",
              "      <td>F</td>\n",
              "      <td>S West</td>\n",
              "      <td>3</td>\n",
              "      <td>75</td>\n",
              "      <td>1</td>\n",
              "      <td>0.00%</td>\n",
              "      <td>2</td>\n",
              "      <td>0</td>\n",
              "      <td>0</td>\n",
              "      <td>6000.00</td>\n",
              "    </tr>\n",
              "  </tbody>\n",
              "</table>\n",
              "<p>22223 rows × 15 columns</p>\n",
              "</div>\n",
              "      <button class=\"colab-df-convert\" onclick=\"convertToInteractive('df-8e177f23-590e-48c0-a7c3-6f70a6cfe027')\"\n",
              "              title=\"Convert this dataframe to an interactive table.\"\n",
              "              style=\"display:none;\">\n",
              "        \n",
              "  <svg xmlns=\"http://www.w3.org/2000/svg\" height=\"24px\"viewBox=\"0 0 24 24\"\n",
              "       width=\"24px\">\n",
              "    <path d=\"M0 0h24v24H0V0z\" fill=\"none\"/>\n",
              "    <path d=\"M18.56 5.44l.94 2.06.94-2.06 2.06-.94-2.06-.94-.94-2.06-.94 2.06-2.06.94zm-11 1L8.5 8.5l.94-2.06 2.06-.94-2.06-.94L8.5 2.5l-.94 2.06-2.06.94zm10 10l.94 2.06.94-2.06 2.06-.94-2.06-.94-.94-2.06-.94 2.06-2.06.94z\"/><path d=\"M17.41 7.96l-1.37-1.37c-.4-.4-.92-.59-1.43-.59-.52 0-1.04.2-1.43.59L10.3 9.45l-7.72 7.72c-.78.78-.78 2.05 0 2.83L4 21.41c.39.39.9.59 1.41.59.51 0 1.02-.2 1.41-.59l7.78-7.78 2.81-2.81c.8-.78.8-2.07 0-2.86zM5.41 20L4 18.59l7.72-7.72 1.47 1.35L5.41 20z\"/>\n",
              "  </svg>\n",
              "      </button>\n",
              "      \n",
              "  <style>\n",
              "    .colab-df-container {\n",
              "      display:flex;\n",
              "      flex-wrap:wrap;\n",
              "      gap: 12px;\n",
              "    }\n",
              "\n",
              "    .colab-df-convert {\n",
              "      background-color: #E8F0FE;\n",
              "      border: none;\n",
              "      border-radius: 50%;\n",
              "      cursor: pointer;\n",
              "      display: none;\n",
              "      fill: #1967D2;\n",
              "      height: 32px;\n",
              "      padding: 0 0 0 0;\n",
              "      width: 32px;\n",
              "    }\n",
              "\n",
              "    .colab-df-convert:hover {\n",
              "      background-color: #E2EBFA;\n",
              "      box-shadow: 0px 1px 2px rgba(60, 64, 67, 0.3), 0px 1px 3px 1px rgba(60, 64, 67, 0.15);\n",
              "      fill: #174EA6;\n",
              "    }\n",
              "\n",
              "    [theme=dark] .colab-df-convert {\n",
              "      background-color: #3B4455;\n",
              "      fill: #D2E3FC;\n",
              "    }\n",
              "\n",
              "    [theme=dark] .colab-df-convert:hover {\n",
              "      background-color: #434B5C;\n",
              "      box-shadow: 0px 1px 3px 1px rgba(0, 0, 0, 0.15);\n",
              "      filter: drop-shadow(0px 1px 2px rgba(0, 0, 0, 0.3));\n",
              "      fill: #FFFFFF;\n",
              "    }\n",
              "  </style>\n",
              "\n",
              "      <script>\n",
              "        const buttonEl =\n",
              "          document.querySelector('#df-8e177f23-590e-48c0-a7c3-6f70a6cfe027 button.colab-df-convert');\n",
              "        buttonEl.style.display =\n",
              "          google.colab.kernel.accessAllowed ? 'block' : 'none';\n",
              "\n",
              "        async function convertToInteractive(key) {\n",
              "          const element = document.querySelector('#df-8e177f23-590e-48c0-a7c3-6f70a6cfe027');\n",
              "          const dataTable =\n",
              "            await google.colab.kernel.invokeFunction('convertToInteractive',\n",
              "                                                     [key], {});\n",
              "          if (!dataTable) return;\n",
              "\n",
              "          const docLinkHtml = 'Like what you see? Visit the ' +\n",
              "            '<a target=\"_blank\" href=https://colab.research.google.com/notebooks/data_table.ipynb>data table notebook</a>'\n",
              "            + ' to learn more about interactive tables.';\n",
              "          element.innerHTML = '';\n",
              "          dataTable['output_type'] = 'display_data';\n",
              "          await google.colab.output.renderOutput(dataTable, element);\n",
              "          const docLink = document.createElement('div');\n",
              "          docLink.innerHTML = docLinkHtml;\n",
              "          element.appendChild(docLink);\n",
              "        }\n",
              "      </script>\n",
              "    </div>\n",
              "  </div>\n",
              "  "
            ]
          },
          "metadata": {},
          "execution_count": 2
        }
      ]
    },
    {
      "cell_type": "code",
      "source": [
        "df_organics_loyalty=df_organics[['cust_loy_id','loyalty_status']].groupby(by='loyalty_status').count()\n",
        "df_organics_loyalty"
      ],
      "metadata": {
        "colab": {
          "base_uri": "https://localhost:8080/",
          "height": 206
        },
        "id": "C4WUG7xetp7_",
        "outputId": "0576e606-9097-415a-879a-58335942aeed"
      },
      "execution_count": null,
      "outputs": [
        {
          "output_type": "execute_result",
          "data": {
            "text/plain": [
              "                cust_loy_id\n",
              "loyalty_status             \n",
              "Gold                   6324\n",
              "Platinum                840\n",
              "Silver                 8572\n",
              "Tin                    6487"
            ],
            "text/html": [
              "\n",
              "  <div id=\"df-3f3d91a2-c233-4b80-bd7d-b6d4635676af\">\n",
              "    <div class=\"colab-df-container\">\n",
              "      <div>\n",
              "<style scoped>\n",
              "    .dataframe tbody tr th:only-of-type {\n",
              "        vertical-align: middle;\n",
              "    }\n",
              "\n",
              "    .dataframe tbody tr th {\n",
              "        vertical-align: top;\n",
              "    }\n",
              "\n",
              "    .dataframe thead th {\n",
              "        text-align: right;\n",
              "    }\n",
              "</style>\n",
              "<table border=\"1\" class=\"dataframe\">\n",
              "  <thead>\n",
              "    <tr style=\"text-align: right;\">\n",
              "      <th></th>\n",
              "      <th>cust_loy_id</th>\n",
              "    </tr>\n",
              "    <tr>\n",
              "      <th>loyalty_status</th>\n",
              "      <th></th>\n",
              "    </tr>\n",
              "  </thead>\n",
              "  <tbody>\n",
              "    <tr>\n",
              "      <th>Gold</th>\n",
              "      <td>6324</td>\n",
              "    </tr>\n",
              "    <tr>\n",
              "      <th>Platinum</th>\n",
              "      <td>840</td>\n",
              "    </tr>\n",
              "    <tr>\n",
              "      <th>Silver</th>\n",
              "      <td>8572</td>\n",
              "    </tr>\n",
              "    <tr>\n",
              "      <th>Tin</th>\n",
              "      <td>6487</td>\n",
              "    </tr>\n",
              "  </tbody>\n",
              "</table>\n",
              "</div>\n",
              "      <button class=\"colab-df-convert\" onclick=\"convertToInteractive('df-3f3d91a2-c233-4b80-bd7d-b6d4635676af')\"\n",
              "              title=\"Convert this dataframe to an interactive table.\"\n",
              "              style=\"display:none;\">\n",
              "        \n",
              "  <svg xmlns=\"http://www.w3.org/2000/svg\" height=\"24px\"viewBox=\"0 0 24 24\"\n",
              "       width=\"24px\">\n",
              "    <path d=\"M0 0h24v24H0V0z\" fill=\"none\"/>\n",
              "    <path d=\"M18.56 5.44l.94 2.06.94-2.06 2.06-.94-2.06-.94-.94-2.06-.94 2.06-2.06.94zm-11 1L8.5 8.5l.94-2.06 2.06-.94-2.06-.94L8.5 2.5l-.94 2.06-2.06.94zm10 10l.94 2.06.94-2.06 2.06-.94-2.06-.94-.94-2.06-.94 2.06-2.06.94z\"/><path d=\"M17.41 7.96l-1.37-1.37c-.4-.4-.92-.59-1.43-.59-.52 0-1.04.2-1.43.59L10.3 9.45l-7.72 7.72c-.78.78-.78 2.05 0 2.83L4 21.41c.39.39.9.59 1.41.59.51 0 1.02-.2 1.41-.59l7.78-7.78 2.81-2.81c.8-.78.8-2.07 0-2.86zM5.41 20L4 18.59l7.72-7.72 1.47 1.35L5.41 20z\"/>\n",
              "  </svg>\n",
              "      </button>\n",
              "      \n",
              "  <style>\n",
              "    .colab-df-container {\n",
              "      display:flex;\n",
              "      flex-wrap:wrap;\n",
              "      gap: 12px;\n",
              "    }\n",
              "\n",
              "    .colab-df-convert {\n",
              "      background-color: #E8F0FE;\n",
              "      border: none;\n",
              "      border-radius: 50%;\n",
              "      cursor: pointer;\n",
              "      display: none;\n",
              "      fill: #1967D2;\n",
              "      height: 32px;\n",
              "      padding: 0 0 0 0;\n",
              "      width: 32px;\n",
              "    }\n",
              "\n",
              "    .colab-df-convert:hover {\n",
              "      background-color: #E2EBFA;\n",
              "      box-shadow: 0px 1px 2px rgba(60, 64, 67, 0.3), 0px 1px 3px 1px rgba(60, 64, 67, 0.15);\n",
              "      fill: #174EA6;\n",
              "    }\n",
              "\n",
              "    [theme=dark] .colab-df-convert {\n",
              "      background-color: #3B4455;\n",
              "      fill: #D2E3FC;\n",
              "    }\n",
              "\n",
              "    [theme=dark] .colab-df-convert:hover {\n",
              "      background-color: #434B5C;\n",
              "      box-shadow: 0px 1px 3px 1px rgba(0, 0, 0, 0.15);\n",
              "      filter: drop-shadow(0px 1px 2px rgba(0, 0, 0, 0.3));\n",
              "      fill: #FFFFFF;\n",
              "    }\n",
              "  </style>\n",
              "\n",
              "      <script>\n",
              "        const buttonEl =\n",
              "          document.querySelector('#df-3f3d91a2-c233-4b80-bd7d-b6d4635676af button.colab-df-convert');\n",
              "        buttonEl.style.display =\n",
              "          google.colab.kernel.accessAllowed ? 'block' : 'none';\n",
              "\n",
              "        async function convertToInteractive(key) {\n",
              "          const element = document.querySelector('#df-3f3d91a2-c233-4b80-bd7d-b6d4635676af');\n",
              "          const dataTable =\n",
              "            await google.colab.kernel.invokeFunction('convertToInteractive',\n",
              "                                                     [key], {});\n",
              "          if (!dataTable) return;\n",
              "\n",
              "          const docLinkHtml = 'Like what you see? Visit the ' +\n",
              "            '<a target=\"_blank\" href=https://colab.research.google.com/notebooks/data_table.ipynb>data table notebook</a>'\n",
              "            + ' to learn more about interactive tables.';\n",
              "          element.innerHTML = '';\n",
              "          dataTable['output_type'] = 'display_data';\n",
              "          await google.colab.output.renderOutput(dataTable, element);\n",
              "          const docLink = document.createElement('div');\n",
              "          docLink.innerHTML = docLinkHtml;\n",
              "          element.appendChild(docLink);\n",
              "        }\n",
              "      </script>\n",
              "    </div>\n",
              "  </div>\n",
              "  "
            ]
          },
          "metadata": {},
          "execution_count": 3
        }
      ]
    },
    {
      "cell_type": "code",
      "source": [
        "df_organics_loyalty.index"
      ],
      "metadata": {
        "colab": {
          "base_uri": "https://localhost:8080/"
        },
        "id": "MqlE5Rg_trrg",
        "outputId": "71c75986-7d6a-4145-864b-e38422b1774b"
      },
      "execution_count": null,
      "outputs": [
        {
          "output_type": "execute_result",
          "data": {
            "text/plain": [
              "Index(['Gold', 'Platinum', 'Silver', 'Tin'], dtype='object', name='loyalty_status')"
            ]
          },
          "metadata": {},
          "execution_count": 4
        }
      ]
    },
    {
      "cell_type": "markdown",
      "source": [
        "\n",
        "\n",
        "---\n",
        "\n",
        "\n",
        "**Exploración de los datos (EDA):**\n",
        "\n",
        "*Análisis sobre la **composición de la cartera** de clientes*\n",
        " \n",
        "\n",
        "\n",
        "> **Afiliación**\n",
        "\n",
        "\n",
        "\n"
      ],
      "metadata": {
        "id": "TozGTJO5qfnB"
      }
    },
    {
      "cell_type": "code",
      "source": [
        "# Piechart de la composición del total de clientes de acuerdo a su grado de afiliación. \n",
        "plt.figure(figsize=(10,6))\n",
        "plt.pie(df_organics_loyalty.cust_loy_id, labels = df_organics_loyalty.index,autopct='%1.1f%%')\n",
        "plt.title('Distribución de los clientes segun nivel de afiliación')\n",
        "plt.show()"
      ],
      "metadata": {
        "colab": {
          "base_uri": "https://localhost:8080/",
          "height": 373
        },
        "id": "vJjyuiT9sTEJ",
        "outputId": "e76d466f-74a1-4795-f053-56dd3bbd68f5"
      },
      "execution_count": null,
      "outputs": [
        {
          "output_type": "display_data",
          "data": {
            "text/plain": [
              "<Figure size 720x432 with 1 Axes>"
            ],
            "image/png": "[encoded data removed]"
          },
          "metadata": {}
        }
      ]
    },
    {
      "cell_type": "markdown",
      "source": [
        "*   El mayor porcentaje corresponde a Silver, seguido por Tin y Gold en porcentajes similares.\n",
        "*   Platinum representa el menor porcentaje de clientes, pero, como se verá más adelante, es el segmento que presenta un mayor nivel de gasto, propiciado por el hecho de que es el status que más beneficios recibe."
      ],
      "metadata": {
        "id": "KgcdgXeLpuRY"
      }
    },
    {
      "cell_type": "markdown",
      "source": [
        "> **Región**\n",
        "\n",
        "\n"
      ],
      "metadata": {
        "id": "T67LPe3TqouJ"
      }
    },
    {
      "cell_type": "code",
      "source": [
        "# Composición de cada región de acuerdo al tipo de miembro\n",
        "sns.displot(data=df_organics, x=\"geographic_region\", hue=\"loyalty_status\", multiple=\"stack\")\n",
        "plt.title('Composición de los clientes de acuerdo a la región y el tipo de miembro')\n",
        "plt.xlabel('Región')\n",
        "plt.ylabel('Cantidad de clientes')\n",
        "plt.show()"
      ],
      "metadata": {
        "colab": {
          "base_uri": "https://localhost:8080/",
          "height": 385
        },
        "id": "eOtxFQjox61m",
        "outputId": "e5ace0ac-5115-4225-de32-85e64a5da103"
      },
      "execution_count": null,
      "outputs": [
        {
          "output_type": "display_data",
          "data": {
            "text/plain": [
              "<Figure size 440.125x360 with 1 Axes>"
            ],
            "image/png": "[encoded data removed]"
          },
          "metadata": {
            "needs_background": "light"
          }
        }
      ]
    },
    {
      "cell_type": "markdown",
      "source": [
        "* A primera vista, los asociados de tipo 'Silver' parecen ser el grupo más colmado a lo largo de todas las regiones geográficas que conforman el Reino Unido, sin embargo, asociados 'Gold' y 'Tin' están presentes en porcentajes similares, tal como se puede observar en el piechart del inicio.\n",
        "* Los clientes 'Platinum' tienen mínima presencia en las regiones Media, Norte y Sudoeste, mientras que en Escocia y Sudoeste ni siquiera existen.\n",
        "*   El mayor número de clientes se concentra  en las regiones Media y Norte, y esto se condice con el hecho de que son de las regiones más pobladas del país.\n"
      ],
      "metadata": {
        "id": "DVUBJiI9p25k"
      }
    },
    {
      "cell_type": "markdown",
      "source": [
        "> **Género**\n",
        "\n",
        "\n"
      ],
      "metadata": {
        "id": "65OtpnRtqwkl"
      }
    },
    {
      "cell_type": "code",
      "source": [
        "# Composición de cada región de acuerdo al genero de los clientes\n",
        "sns.displot(data=df_organics, x=\"geographic_region\", hue=\"Gender\", multiple=\"stack\")\n",
        "plt.title('Composición de los clientes de acuerdo a la región y el género')\n",
        "plt.xlabel('Región')\n",
        "plt.ylabel('Cantidad de clientes')\n",
        "plt.show()"
      ],
      "metadata": {
        "colab": {
          "base_uri": "https://localhost:8080/",
          "height": 382
        },
        "id": "r4wI0S6UDxcI",
        "outputId": "af266b66-e926-4af4-f11d-fe8bc6eb71c4"
      },
      "execution_count": null,
      "outputs": [
        {
          "output_type": "display_data",
          "data": {
            "text/plain": [
              "<Figure size 404.875x360 with 1 Axes>"
            ],
            "image/png": "[encoded data removed]"
          },
          "metadata": {
            "needs_background": "light"
          }
        }
      ]
    },
    {
      "cell_type": "markdown",
      "source": [
        "\n",
        "*   En todas las regiones, es clara la evidencia de que la cartera de clientes  está compuesta por mujeres principalmente.\n"
      ],
      "metadata": {
        "id": "mUZ6lf8SqBD5"
      }
    },
    {
      "cell_type": "markdown",
      "source": [
        "---\n",
        "\n",
        "*Análisis sobre la **distribución del gasto** de los clientes*\n",
        "\n"
      ],
      "metadata": {
        "id": "EuPVg4X_q446"
      }
    },
    {
      "cell_type": "markdown",
      "source": [
        "> **Afiliación**\n",
        "\n",
        "\n"
      ],
      "metadata": {
        "id": "JGtzi00BqG72"
      }
    },
    {
      "cell_type": "code",
      "source": [
        "# Distribución del gasto segun el nivel de fidelidad de los clientes\n",
        "sns.set_theme(style=\"whitegrid\")\n",
        "ax = sns.boxplot(x=\"total_spend\", y=\"loyalty_status\", data=df_organics, showfliers=False)\n",
        "plt.title('Distribucion del gasto segun nivel de fidelidad')\n",
        "plt.xlabel('Gasto total')\n",
        "plt.ylabel('Nivel de fidelidad')\n",
        "plt.show()"
      ],
      "metadata": {
        "colab": {
          "base_uri": "https://localhost:8080/",
          "height": 301
        },
        "id": "Q1PGkZUS6iWF",
        "outputId": "d3bb37c1-a204-4882-dd32-55635ed32866"
      },
      "execution_count": null,
      "outputs": [
        {
          "output_type": "display_data",
          "data": {
            "text/plain": [
              "<Figure size 432x288 with 1 Axes>"
            ],
            "image/png": "[encoded data removed]"
          },
          "metadata": {}
        }
      ]
    },
    {
      "cell_type": "markdown",
      "source": [
        "*   La tienda entregó descuentos para compra la de productos orgánicos a sus clientes del programa de fidelización. \n",
        "*   El efecto de esta medida se ve reflejado en el gráfico puesto que quienes compraron orgánicos (1) siempre gastaron menos dinero que los que no (0).\n",
        "* No todos los clientes de programa de fidelidad consumieron productos orgánicos a pesar de los descuentos ofrecidos.\n",
        "* Los clientes 'Platinum' son quienes evidencian un mayor gasto, con una media de alrededor de 25.000 libras esterlinas y alcanzando en algunos casos las 50.000 libras esterlinas . Esto podría estar influenciado por el hecho de que, *a mayor grado de fidelidad, mayores son los beneficios otorgados a los clientes, mayores los incentivos a comprar en esas tiendas*.\n",
        "* El gasto de los clientes 'Gold' y 'Silver' es visiblemente menor y mucho menos variable, especialmente en el caso de 'Gold', que la mediana está casi en el borde inferior del boxplot. En el caso de 'Silver', la mediana se encuentra más o menos en la mitad del boxplot, lo que da una idea de una distribución un tanto más pareja del gasto de esos clientes"
      ],
      "metadata": {
        "id": "8-kmsaBRqIyJ"
      }
    },
    {
      "cell_type": "markdown",
      "source": [
        "\n",
        ">**Género**\n",
        " \n",
        "\n"
      ],
      "metadata": {
        "id": "KlZgwODsrEI7"
      }
    },
    {
      "cell_type": "code",
      "source": [
        "# Distribucion del gasto de acuerdo al genero, discriminado segun si se compra organicos o no (1-0)\n",
        "sns.set_theme(style=\"whitegrid\")\n",
        "ax = sns.barplot(x=\"Gender\", y=\"total_spend\",hue='organic_purch_indic', data=df_organics)\n",
        "ax.legend()\n",
        "plt.title('Distribucion del gasto segun género y consumo de productos orgánicos')\n",
        "plt.xlabel('Género')\n",
        "plt.ylabel('Gasto total')\n",
        "plt.show()"
      ],
      "metadata": {
        "colab": {
          "base_uri": "https://localhost:8080/",
          "height": 301
        },
        "id": "WAAY3IwYql1G",
        "outputId": "f8b78125-989e-4a07-ddf2-ce1a8cb11e47"
      },
      "execution_count": null,
      "outputs": [
        {
          "output_type": "display_data",
          "data": {
            "text/plain": [
              "<Figure size 432x288 with 1 Axes>"
            ],
            "image/png": "[encoded data removed]"
          },
          "metadata": {}
        }
      ]
    },
    {
      "cell_type": "markdown",
      "source": [
        "*  No hay una clara diferencia entre el comportamiento de los hombres y las mujeres en cuanto al consumo de productos orgánicos."
      ],
      "metadata": {
        "id": "eog4ImlaqL2C"
      }
    },
    {
      "cell_type": "markdown",
      "source": [
        "\n",
        "\n",
        "---\n",
        " **Feature Selection:**\n"
      ],
      "metadata": {
        "id": "kwXHmuWU8sEa"
      }
    },
    {
      "cell_type": "code",
      "source": [
        "# Tratamiento de missings\n",
        "\n",
        "df_organics.loc[df_organics['Gender'].isnull(), \"Gender\"] = \"U\"\n",
        "df_organics.loc[df_organics['geographic_region'].isnull(), \"geographic_region\"] = \"U\"\n",
        "df_organics.loc[df_organics['Neigh_clust_55_lvl'].isnull(), \"Neigh_clust_55_lvl\"] = 0\n",
        "df_organics.loc[df_organics['Neigh_clust_7_lvl'].isnull(), \"Neigh_clust_7_lvl\"] = \"U\"\n",
        "df_organics.loc[df_organics['tv_region'].isnull(), \"tv_region\"] = \"U\"\n",
        "df_organics['Age'] = df_organics['Age'].replace(['.'],'0')\n",
        "\n",
        "df_organics.info()"
      ],
      "metadata": {
        "id": "0OC_P2HhBBwp",
        "colab": {
          "base_uri": "https://localhost:8080/"
        },
        "outputId": "d07c255d-c3a8-4a88-964a-331fecdb1184"
      },
      "execution_count": null,
      "outputs": [
        {
          "output_type": "stream",
          "name": "stdout",
          "text": [
            "<class 'pandas.core.frame.DataFrame'>\n",
            "RangeIndex: 22223 entries, 0 to 22222\n",
            "Data columns (total 15 columns):\n",
            " #   Column                   Non-Null Count  Dtype  \n",
            "---  ------                   --------------  -----  \n",
            " 0   cust_loy_id              22223 non-null  int64  \n",
            " 1   Gender                   22223 non-null  object \n",
            " 2   geographic_region        22223 non-null  object \n",
            " 3   loyalty_status           22223 non-null  object \n",
            " 4   Neigh_clust_55_lvl       22223 non-null  float64\n",
            " 5   Neigh_clust_7_lvl        22223 non-null  object \n",
            " 6   tv_region                22223 non-null  object \n",
            " 7   Affluence Grade          22223 non-null  object \n",
            " 8   Age                      22223 non-null  object \n",
            " 9   Frequency                22223 non-null  int64  \n",
            " 10  Frequency Percent        22223 non-null  object \n",
            " 11  Loyalty Card Tenure      22223 non-null  object \n",
            " 12  Organics Purchase Count  22223 non-null  int64  \n",
            " 13  organic_purch_indic      22223 non-null  int64  \n",
            " 14  total_spend              22223 non-null  float64\n",
            "dtypes: float64(2), int64(4), object(9)\n",
            "memory usage: 2.5+ MB\n"
          ]
        }
      ]
    },
    {
      "cell_type": "code",
      "source": [
        "# Eliminamos variables que son irrelevantes para el análisis, ya sea por su contenido o porque están duplicadas\n",
        "\n",
        "df_organics_clean= df_organics.drop(columns=['Frequency','Frequency Percent','Affluence Grade'])\n",
        "#df_organics_clean"
      ],
      "metadata": {
        "id": "Nmi2u5eE8kYQ"
      },
      "execution_count": null,
      "outputs": []
    },
    {
      "cell_type": "code",
      "source": [
        "# Aplico la técnica de Label Encoder para transformar en numéricas las variables categóricas\n",
        "\n",
        "df_col=list(df_organics_clean.columns)\n",
        "\n",
        "for i in range(len(df_col)):\n",
        "  df_organics_clean[df_col[i]] = LabelEncoder().fit_transform(df_organics_clean[df_col[i]])\n",
        "\n",
        "df_organics_clean"
      ],
      "metadata": {
        "colab": {
          "base_uri": "https://localhost:8080/",
          "height": 522
        },
        "id": "T__fPZSWYKS7",
        "outputId": "98c55233-2118-4e0e-e0cb-b6b06c9d763f"
      },
      "execution_count": null,
      "outputs": [
        {
          "output_type": "execute_result",
          "data": {
            "text/plain": [
              "       cust_loy_id  Gender  geographic_region  loyalty_status  \\\n",
              "0                0       2                  0               0   \n",
              "1                1       2                  0               0   \n",
              "2                2       0                  0               2   \n",
              "3                3       1                  0               3   \n",
              "4                4       0                  0               3   \n",
              "...            ...     ...                ...             ...   \n",
              "22218        22218       0                  3               2   \n",
              "22219        22219       2                  3               0   \n",
              "22220        22220       0                  1               0   \n",
              "22221        22221       0                  1               2   \n",
              "22222        22222       2                  4               0   \n",
              "\n",
              "       Neigh_clust_55_lvl  Neigh_clust_7_lvl  tv_region  Age  \\\n",
              "0                      16                  2         12   59   \n",
              "1                      35                  3         12   32   \n",
              "2                      27                  3         12   53   \n",
              "3                      51                  5          4   48   \n",
              "4                       4                  0          4   51   \n",
              "...                   ...                ...        ...  ...   \n",
              "22218                   9                  1          3   48   \n",
              "22219                  34                  3          8   56   \n",
              "22220                  15                  1         13   53   \n",
              "22221                   8                  1          7   49   \n",
              "22222                  53                  5          9   58   \n",
              "\n",
              "       Loyalty Card Tenure  Organics Purchase Count  organic_purch_indic  \\\n",
              "0                       34                        0                    0   \n",
              "1                       35                        0                    0   \n",
              "2                       38                        1                    1   \n",
              "3                       37                        1                    1   \n",
              "4                       38                        0                    0   \n",
              "...                    ...                      ...                  ...   \n",
              "22218                   35                        0                    0   \n",
              "22219                    5                        0                    0   \n",
              "22220                   35                        0                    0   \n",
              "22221                   35                        0                    0   \n",
              "22222                   13                        0                    0   \n",
              "\n",
              "       total_spend  \n",
              "0             1813  \n",
              "1             1138  \n",
              "2                1  \n",
              "3                0  \n",
              "4                0  \n",
              "...            ...  \n",
              "22218          426  \n",
              "22219         1162  \n",
              "22220         1138  \n",
              "22221         1000  \n",
              "22222         1138  \n",
              "\n",
              "[22223 rows x 12 columns]"
            ],
            "text/html": [
              "\n",
              "  <div id=\"df-26138c3e-fac2-4bcd-9742-6020657ad43b\">\n",
              "    <div class=\"colab-df-container\">\n",
              "      <div>\n",
              "<style scoped>\n",
              "    .dataframe tbody tr th:only-of-type {\n",
              "        vertical-align: middle;\n",
              "    }\n",
              "\n",
              "    .dataframe tbody tr th {\n",
              "        vertical-align: top;\n",
              "    }\n",
              "\n",
              "    .dataframe thead th {\n",
              "        text-align: right;\n",
              "    }\n",
              "</style>\n",
              "<table border=\"1\" class=\"dataframe\">\n",
              "  <thead>\n",
              "    <tr style=\"text-align: right;\">\n",
              "      <th></th>\n",
              "      <th>cust_loy_id</th>\n",
              "      <th>Gender</th>\n",
              "      <th>geographic_region</th>\n",
              "      <th>loyalty_status</th>\n",
              "      <th>Neigh_clust_55_lvl</th>\n",
              "      <th>Neigh_clust_7_lvl</th>\n",
              "      <th>tv_region</th>\n",
              "      <th>Age</th>\n",
              "      <th>Loyalty Card Tenure</th>\n",
              "      <th>Organics Purchase Count</th>\n",
              "      <th>organic_purch_indic</th>\n",
              "      <th>total_spend</th>\n",
              "    </tr>\n",
              "  </thead>\n",
              "  <tbody>\n",
              "    <tr>\n",
              "      <th>0</th>\n",
              "      <td>0</td>\n",
              "      <td>2</td>\n",
              "      <td>0</td>\n",
              "      <td>0</td>\n",
              "      <td>16</td>\n",
              "      <td>2</td>\n",
              "      <td>12</td>\n",
              "      <td>59</td>\n",
              "      <td>34</td>\n",
              "      <td>0</td>\n",
              "      <td>0</td>\n",
              "      <td>1813</td>\n",
              "    </tr>\n",
              "    <tr>\n",
              "      <th>1</th>\n",
              "      <td>1</td>\n",
              "      <td>2</td>\n",
              "      <td>0</td>\n",
              "      <td>0</td>\n",
              "      <td>35</td>\n",
              "      <td>3</td>\n",
              "      <td>12</td>\n",
              "      <td>32</td>\n",
              "      <td>35</td>\n",
              "      <td>0</td>\n",
              "      <td>0</td>\n",
              "      <td>1138</td>\n",
              "    </tr>\n",
              "    <tr>\n",
              "      <th>2</th>\n",
              "      <td>2</td>\n",
              "      <td>0</td>\n",
              "      <td>0</td>\n",
              "      <td>2</td>\n",
              "      <td>27</td>\n",
              "      <td>3</td>\n",
              "      <td>12</td>\n",
              "      <td>53</td>\n",
              "      <td>38</td>\n",
              "      <td>1</td>\n",
              "      <td>1</td>\n",
              "      <td>1</td>\n",
              "    </tr>\n",
              "    <tr>\n",
              "      <th>3</th>\n",
              "      <td>3</td>\n",
              "      <td>1</td>\n",
              "      <td>0</td>\n",
              "      <td>3</td>\n",
              "      <td>51</td>\n",
              "      <td>5</td>\n",
              "      <td>4</td>\n",
              "      <td>48</td>\n",
              "      <td>37</td>\n",
              "      <td>1</td>\n",
              "      <td>1</td>\n",
              "      <td>0</td>\n",
              "    </tr>\n",
              "    <tr>\n",
              "      <th>4</th>\n",
              "      <td>4</td>\n",
              "      <td>0</td>\n",
              "      <td>0</td>\n",
              "      <td>3</td>\n",
              "      <td>4</td>\n",
              "      <td>0</td>\n",
              "      <td>4</td>\n",
              "      <td>51</td>\n",
              "      <td>38</td>\n",
              "      <td>0</td>\n",
              "      <td>0</td>\n",
              "      <td>0</td>\n",
              "    </tr>\n",
              "    <tr>\n",
              "      <th>...</th>\n",
              "      <td>...</td>\n",
              "      <td>...</td>\n",
              "      <td>...</td>\n",
              "      <td>...</td>\n",
              "      <td>...</td>\n",
              "      <td>...</td>\n",
              "      <td>...</td>\n",
              "      <td>...</td>\n",
              "      <td>...</td>\n",
              "      <td>...</td>\n",
              "      <td>...</td>\n",
              "      <td>...</td>\n",
              "    </tr>\n",
              "    <tr>\n",
              "      <th>22218</th>\n",
              "      <td>22218</td>\n",
              "      <td>0</td>\n",
              "      <td>3</td>\n",
              "      <td>2</td>\n",
              "      <td>9</td>\n",
              "      <td>1</td>\n",
              "      <td>3</td>\n",
              "      <td>48</td>\n",
              "      <td>35</td>\n",
              "      <td>0</td>\n",
              "      <td>0</td>\n",
              "      <td>426</td>\n",
              "    </tr>\n",
              "    <tr>\n",
              "      <th>22219</th>\n",
              "      <td>22219</td>\n",
              "      <td>2</td>\n",
              "      <td>3</td>\n",
              "      <td>0</td>\n",
              "      <td>34</td>\n",
              "      <td>3</td>\n",
              "      <td>8</td>\n",
              "      <td>56</td>\n",
              "      <td>5</td>\n",
              "      <td>0</td>\n",
              "      <td>0</td>\n",
              "      <td>1162</td>\n",
              "    </tr>\n",
              "    <tr>\n",
              "      <th>22220</th>\n",
              "      <td>22220</td>\n",
              "      <td>0</td>\n",
              "      <td>1</td>\n",
              "      <td>0</td>\n",
              "      <td>15</td>\n",
              "      <td>1</td>\n",
              "      <td>13</td>\n",
              "      <td>53</td>\n",
              "      <td>35</td>\n",
              "      <td>0</td>\n",
              "      <td>0</td>\n",
              "      <td>1138</td>\n",
              "    </tr>\n",
              "    <tr>\n",
              "      <th>22221</th>\n",
              "      <td>22221</td>\n",
              "      <td>0</td>\n",
              "      <td>1</td>\n",
              "      <td>2</td>\n",
              "      <td>8</td>\n",
              "      <td>1</td>\n",
              "      <td>7</td>\n",
              "      <td>49</td>\n",
              "      <td>35</td>\n",
              "      <td>0</td>\n",
              "      <td>0</td>\n",
              "      <td>1000</td>\n",
              "    </tr>\n",
              "    <tr>\n",
              "      <th>22222</th>\n",
              "      <td>22222</td>\n",
              "      <td>2</td>\n",
              "      <td>4</td>\n",
              "      <td>0</td>\n",
              "      <td>53</td>\n",
              "      <td>5</td>\n",
              "      <td>9</td>\n",
              "      <td>58</td>\n",
              "      <td>13</td>\n",
              "      <td>0</td>\n",
              "      <td>0</td>\n",
              "      <td>1138</td>\n",
              "    </tr>\n",
              "  </tbody>\n",
              "</table>\n",
              "<p>22223 rows × 12 columns</p>\n",
              "</div>\n",
              "      <button class=\"colab-df-convert\" onclick=\"convertToInteractive('df-26138c3e-fac2-4bcd-9742-6020657ad43b')\"\n",
              "              title=\"Convert this dataframe to an interactive table.\"\n",
              "              style=\"display:none;\">\n",
              "        \n",
              "  <svg xmlns=\"http://www.w3.org/2000/svg\" height=\"24px\"viewBox=\"0 0 24 24\"\n",
              "       width=\"24px\">\n",
              "    <path d=\"M0 0h24v24H0V0z\" fill=\"none\"/>\n",
              "    <path d=\"M18.56 5.44l.94 2.06.94-2.06 2.06-.94-2.06-.94-.94-2.06-.94 2.06-2.06.94zm-11 1L8.5 8.5l.94-2.06 2.06-.94-2.06-.94L8.5 2.5l-.94 2.06-2.06.94zm10 10l.94 2.06.94-2.06 2.06-.94-2.06-.94-.94-2.06-.94 2.06-2.06.94z\"/><path d=\"M17.41 7.96l-1.37-1.37c-.4-.4-.92-.59-1.43-.59-.52 0-1.04.2-1.43.59L10.3 9.45l-7.72 7.72c-.78.78-.78 2.05 0 2.83L4 21.41c.39.39.9.59 1.41.59.51 0 1.02-.2 1.41-.59l7.78-7.78 2.81-2.81c.8-.78.8-2.07 0-2.86zM5.41 20L4 18.59l7.72-7.72 1.47 1.35L5.41 20z\"/>\n",
              "  </svg>\n",
              "      </button>\n",
              "      \n",
              "  <style>\n",
              "    .colab-df-container {\n",
              "      display:flex;\n",
              "      flex-wrap:wrap;\n",
              "      gap: 12px;\n",
              "    }\n",
              "\n",
              "    .colab-df-convert {\n",
              "      background-color: #E8F0FE;\n",
              "      border: none;\n",
              "      border-radius: 50%;\n",
              "      cursor: pointer;\n",
              "      display: none;\n",
              "      fill: #1967D2;\n",
              "      height: 32px;\n",
              "      padding: 0 0 0 0;\n",
              "      width: 32px;\n",
              "    }\n",
              "\n",
              "    .colab-df-convert:hover {\n",
              "      background-color: #E2EBFA;\n",
              "      box-shadow: 0px 1px 2px rgba(60, 64, 67, 0.3), 0px 1px 3px 1px rgba(60, 64, 67, 0.15);\n",
              "      fill: #174EA6;\n",
              "    }\n",
              "\n",
              "    [theme=dark] .colab-df-convert {\n",
              "      background-color: #3B4455;\n",
              "      fill: #D2E3FC;\n",
              "    }\n",
              "\n",
              "    [theme=dark] .colab-df-convert:hover {\n",
              "      background-color: #434B5C;\n",
              "      box-shadow: 0px 1px 3px 1px rgba(0, 0, 0, 0.15);\n",
              "      filter: drop-shadow(0px 1px 2px rgba(0, 0, 0, 0.3));\n",
              "      fill: #FFFFFF;\n",
              "    }\n",
              "  </style>\n",
              "\n",
              "      <script>\n",
              "        const buttonEl =\n",
              "          document.querySelector('#df-26138c3e-fac2-4bcd-9742-6020657ad43b button.colab-df-convert');\n",
              "        buttonEl.style.display =\n",
              "          google.colab.kernel.accessAllowed ? 'block' : 'none';\n",
              "\n",
              "        async function convertToInteractive(key) {\n",
              "          const element = document.querySelector('#df-26138c3e-fac2-4bcd-9742-6020657ad43b');\n",
              "          const dataTable =\n",
              "            await google.colab.kernel.invokeFunction('convertToInteractive',\n",
              "                                                     [key], {});\n",
              "          if (!dataTable) return;\n",
              "\n",
              "          const docLinkHtml = 'Like what you see? Visit the ' +\n",
              "            '<a target=\"_blank\" href=https://colab.research.google.com/notebooks/data_table.ipynb>data table notebook</a>'\n",
              "            + ' to learn more about interactive tables.';\n",
              "          element.innerHTML = '';\n",
              "          dataTable['output_type'] = 'display_data';\n",
              "          await google.colab.output.renderOutput(dataTable, element);\n",
              "          const docLink = document.createElement('div');\n",
              "          docLink.innerHTML = docLinkHtml;\n",
              "          element.appendChild(docLink);\n",
              "        }\n",
              "      </script>\n",
              "    </div>\n",
              "  </div>\n",
              "  "
            ]
          },
          "metadata": {},
          "execution_count": 13
        }
      ]
    },
    {
      "cell_type": "markdown",
      "source": [
        ">Estandarizo la información de la tabla para luego aplicar **PCA** y generar el dendrograma más cómodamente\n",
        "\n",
        "\n",
        "\n"
      ],
      "metadata": {
        "id": "05H6JB1nKf_b"
      }
    },
    {
      "cell_type": "code",
      "source": [
        "# 'Escalo' la información para que todas las variables sean comparables\n",
        "scaler = StandardScaler()\n",
        "df_scaled = scaler.fit_transform(df_organics_clean)\n",
        " \n",
        "# Normalizo la data para que siga una distribución Gaussiana\n",
        "\n",
        "x_normalized = normalize(df_scaled)\n",
        " \n",
        "# Convierto el array de numpy en un  dataframe de pandas\n",
        "df_normalized = pd.DataFrame(x_normalized)\n",
        "pca = PCA(n_components = 2)\n",
        "X_principal = pca.fit_transform(df_normalized)\n",
        "df_principal = pd.DataFrame(X_principal)\n",
        "df_principal.columns = ['P1', 'P2']\n",
        "\n",
        "#divido la muestra en train y test\n",
        "X_train, X_test = train_test_split(df_principal, test_size=0.3, random_state=42)\n",
        "\n",
        "\n",
        "# Genero el dendrograma\n",
        "plt.figure(figsize =(8, 8))\n",
        "plt.title('Visualising the data')\n",
        "Dendrogram = shc.dendrogram((shc.linkage(X_train, method ='ward')))"
      ],
      "metadata": {
        "colab": {
          "base_uri": "https://localhost:8080/",
          "height": 507
        },
        "id": "m1d84sdixR4x",
        "outputId": "ecebd5a7-00cf-4daf-d816-bcbf5e6ac9ca"
      },
      "execution_count": null,
      "outputs": [
        {
          "output_type": "display_data",
          "data": {
            "text/plain": [
              "<Figure size 576x576 with 1 Axes>"
            ],
            "image/png": "[encoded data removed]"
          },
          "metadata": {}
        }
      ]
    },
    {
      "cell_type": "markdown",
      "source": [
        "El dendrograma da la idea de que el número ideal de clusters debiera ser 3"
      ],
      "metadata": {
        "id": "ZoSDAQsnF4KA"
      }
    },
    {
      "cell_type": "markdown",
      "source": [
        "\n",
        "---\n",
        "\n",
        "\n",
        "**Análisis No-Supervisado:**\n",
        "\n",
        "> **Elección del modelo**\n",
        "\n",
        "Se opta por el análisis no-supervisado puesto que aquí se carece de variable objetivo. Lo que se quiere hacer es tratar de encontrar patrones en la información que permitan clasificar de algun modo a los clientes de la base de datos.\n",
        "\n",
        "> En entregas previas del proyecto, se analizó la posibilidad de usar 2 algoritmos de clasificación: **Agglommerative clustering** y **K-Means**. \n",
        "\n",
        "Tanto el Agglomerative Clustering como el K-Means tienen sus *pros* y sus *contras*:\n",
        "\n",
        "* El **Agglomerative Clustering** genera una división más 'ordenada' de la base, sin embargo, será solamente útil para clasificar a los clientes existentes dentro de la base pues, cuando se requiera evaluar nuevos clientes, se deberá correr el algoritmo nuevamente para volver a generar las aglomeraciones.\n",
        "\n",
        "* Por otro lado, el **K-Means** muestra una segmentación menos evidente de los clientes. A pesar de ello, el modelo será útil para clasificar nuevos clientes que no estén en la base puesto que los centroides o 'puntos neurálgicos' ya están definidos, y solo resta ubicar los nuevos registros de acuerdo a dichos puntos.\n",
        "\n",
        "\n",
        "\n",
        "\n",
        "\n",
        "\n",
        "> Dadas las particularidades de cada uno, se optó por avanzar con el **K-Means** . Los resultados del Agglomerative Clustering se han omitido para que el documento no sea tan extenso.\n",
        "\n",
        "\n",
        "\n",
        "\n",
        "\n"
      ],
      "metadata": {
        "id": "076M13dDELTb"
      }
    },
    {
      "cell_type": "markdown",
      "source": [
        "\n",
        "\n",
        "\n",
        "\n",
        "\n",
        "\n",
        "**Entrenamiento del modelo** \n",
        "\n",
        "\n",
        "\n",
        "\n"
      ],
      "metadata": {
        "id": "Lr134xNgEn-D"
      }
    },
    {
      "cell_type": "markdown",
      "source": [
        ">Aplico la técnica del codo para ver cual es el k ideal"
      ],
      "metadata": {
        "id": "OZCSm0Y-K6aS"
      }
    },
    {
      "cell_type": "code",
      "source": [
        "\n",
        "Nc = range(1, 11)\n",
        "kmeans = [KMeans(n_clusters=i) for i in Nc]\n",
        "kmeans\n",
        "score = [kmeans[i].fit(X_train).score(X_train) for i in range(len(kmeans))]\n",
        "score\n",
        "plt.plot(Nc,score)\n",
        "plt.xlabel('Number of Clusters')\n",
        "plt.ylabel('Score')\n",
        "plt.title('Elbow Curve')\n",
        "plt.show()"
      ],
      "metadata": {
        "colab": {
          "base_uri": "https://localhost:8080/",
          "height": 301
        },
        "id": "Ec7Fp3mqsTFI",
        "outputId": "9c4f0404-de2d-4f52-8ac7-c050421eabb2"
      },
      "execution_count": null,
      "outputs": [
        {
          "output_type": "display_data",
          "data": {
            "text/plain": [
              "<Figure size 432x288 with 1 Axes>"
            ],
            "image/png": "[encoded data removed]"
          },
          "metadata": {}
        }
      ]
    },
    {
      "cell_type": "markdown",
      "source": [
        "\n",
        "\n",
        "*   De acuerdo a la gráfica del codo, el k ideal  para ejecutar el algoritmo de K-Means parece estar entre 3 y 5\n",
        "\n"
      ],
      "metadata": {
        "id": "cGBHyOGeuRUl"
      }
    },
    {
      "cell_type": "markdown",
      "source": [
        "\n",
        "\n",
        "---\n",
        "\n",
        "\n",
        "*   *K=5* \n",
        "\n",
        "\n",
        "\n",
        "\n"
      ],
      "metadata": {
        "id": "617jQMroH5t1"
      }
    },
    {
      "cell_type": "code",
      "source": [
        "#Hago una copia de mi tabla original luego de aplicar PCA\n",
        "\n",
        "X_train5=X_train\n",
        "#Ejecuto el algoritmo de K-Means para k=5 \n",
        "\n",
        "kmeans5 = KMeans(n_clusters=5).fit(X_train5) #mi X\n",
        "centroids = kmeans5.cluster_centers_\n",
        "print(centroids)\n",
        "\n",
        "# Predicting the clusters\n",
        "labels5 = kmeans5.predict(X_train5) #mi Y\n",
        "\n"
      ],
      "metadata": {
        "colab": {
          "base_uri": "https://localhost:8080/"
        },
        "id": "dy33pD0luNWY",
        "outputId": "1a096388-706c-4fee-94e8-25c8ce2b95a0"
      },
      "execution_count": null,
      "outputs": [
        {
          "output_type": "stream",
          "name": "stdout",
          "text": [
            "[[ 1.41090195e-01 -1.88669230e-01  1.00000000e+00]\n",
            " [-3.76981073e-01 -3.70045460e-01  2.43138842e-14]\n",
            " [ 6.09715286e-01  3.02678099e-02  2.00000000e+00]\n",
            " [-5.59278047e-01  4.90849503e-01  1.39888101e-14]\n",
            " [ 7.21422542e-02  6.81973640e-01  1.00000000e+00]]\n"
          ]
        }
      ]
    },
    {
      "cell_type": "code",
      "source": [
        "#Agrego mi Y a la tabla principal\n",
        "X_train5['pred']=labels5\n",
        "\n",
        "#Necesito convertir mi dataframe a un numpy array para luego poder graficar\n",
        "X_train5_scatter=X_train5.values\n",
        "\n",
        "#Genero el scatter para ver cómo quedaron armados los clusters\n",
        "plt.scatter(X_train5_scatter[labels5 == 0, 0], X_train5_scatter[labels5 == 0, 1], s = 100, c = 'red', label = 'Cluster 1')\n",
        "plt.scatter(X_train5_scatter[labels5 == 1, 0], X_train5_scatter[labels5 == 1, 1], s = 100, c = 'blue', label = 'Cluster 2')\n",
        "plt.scatter(X_train5_scatter[labels5 == 2, 0], X_train5_scatter[labels5 == 2, 1], s = 100, c = 'green', label = 'Cluster 3')\n",
        "plt.scatter(X_train5_scatter[labels5 == 3, 0], X_train5_scatter[labels5 == 3, 1], s = 100, c = 'cyan', label = 'Cluster 4')\n",
        "plt.scatter(X_train5_scatter[labels5 == 4, 0], X_train5_scatter[labels5 == 4, 1], s = 100, c = 'purple', label = 'Cluster 5')\n",
        "\n",
        "plt.scatter(kmeans5.cluster_centers_[:, 0], kmeans5.cluster_centers_[:, 1], s = 300, c = 'yellow', label = 'Centroids')\n",
        "\n",
        "plt.title('Clusters of customers')\n",
        "plt.legend()\n",
        "plt.show()\n"
      ],
      "metadata": {
        "colab": {
          "base_uri": "https://localhost:8080/",
          "height": 284
        },
        "id": "__kPX3_xvNba",
        "outputId": "5f7ab147-6dcc-4e41-e5b0-f4d0e51970eb"
      },
      "execution_count": null,
      "outputs": [
        {
          "output_type": "display_data",
          "data": {
            "text/plain": [
              "<Figure size 432x288 with 1 Axes>"
            ],
            "image/png": "[encoded data removed]"
          },
          "metadata": {}
        }
      ]
    },
    {
      "cell_type": "markdown",
      "source": [
        "\n",
        "\n",
        "---\n",
        "\n",
        "\n",
        "\n",
        "*   *K=4*\n"
      ],
      "metadata": {
        "id": "DSA-xOItS8WD"
      }
    },
    {
      "cell_type": "code",
      "source": [
        "#Hago una copia de mi tabla original luego de aplicar PCA\n",
        "\n",
        "X_train4=X_train\n",
        "\n",
        "\n",
        "#Ejecuto el algoritmo de K-Means para k=4 y obtengo los centroides\n",
        "\n",
        "kmeans4 = KMeans(n_clusters=4).fit(X_train4) #mi X\n",
        "centroids = kmeans4.cluster_centers_\n",
        "print(centroids)\n",
        "\n",
        "# Predicting the clusters\n",
        "labels4 = kmeans4.predict(X_train4) #mi Y"
      ],
      "metadata": {
        "colab": {
          "base_uri": "https://localhost:8080/"
        },
        "id": "vuGPtDINTBoC",
        "outputId": "64f7b2d5-d653-4c31-cc1b-b4f0cbe96f90"
      },
      "execution_count": null,
      "outputs": [
        {
          "output_type": "stream",
          "name": "stdout",
          "text": [
            "[[ 6.09715286e-01  3.02678099e-02  7.94919686e-14]\n",
            " [ 1.22451276e-01  4.66944556e-02  2.72966679e+00]\n",
            " [-3.76981073e-01 -3.70045460e-01  1.00000000e+00]\n",
            " [-5.59278047e-01  4.90849503e-01  4.00000000e+00]]\n"
          ]
        }
      ]
    },
    {
      "cell_type": "code",
      "source": [
        "#Agrego mi Y a la tabla principal\n",
        "X_train4['pred']=labels4\n",
        "\n",
        "#Necesito convertir mi dataframe a un numpy array para luego poder graficar\n",
        "X_train4_scatter=X_train4.values\n",
        "\n",
        "plt.scatter(X_train4_scatter[labels4 == 0, 0], X_train4_scatter[labels4 == 0, 1], s = 100, c = 'red', label = 'Cluster 1')\n",
        "plt.scatter(X_train4_scatter[labels4 == 1, 0], X_train4_scatter[labels4 == 1, 1], s = 100, c = 'blue', label = 'Cluster 2')\n",
        "plt.scatter(X_train4_scatter[labels4 == 2, 0], X_train4_scatter[labels4 == 2, 1], s = 100, c = 'green', label = 'Cluster 3')\n",
        "plt.scatter(X_train4_scatter[labels4 == 3, 0], X_train4_scatter[labels4 == 3, 1], s = 100, c = 'cyan', label = 'Cluster 4')\n",
        "\n",
        "\n",
        "plt.scatter(kmeans4.cluster_centers_[:, 0], kmeans4.cluster_centers_[:, 1], s = 300, c = 'yellow', label = 'Centroids')\n",
        "\n",
        "plt.title('Clusters of customers')\n",
        "\n",
        "plt.legend()\n",
        "plt.show()\n"
      ],
      "metadata": {
        "colab": {
          "base_uri": "https://localhost:8080/",
          "height": 284
        },
        "id": "mnJ2xp8bTMPL",
        "outputId": "20d2f68c-78d5-4375-b066-7ee9a875b3cd"
      },
      "execution_count": null,
      "outputs": [
        {
          "output_type": "display_data",
          "data": {
            "text/plain": [
              "<Figure size 432x288 with 1 Axes>"
            ],
            "image/png": "[encoded data removed]"
          },
          "metadata": {}
        }
      ]
    },
    {
      "cell_type": "markdown",
      "source": [
        "\n",
        "\n",
        "---\n",
        "\n",
        "\n",
        "\n",
        "*   *K=3*\n",
        "\n"
      ],
      "metadata": {
        "id": "q9lkPOe-Sk3K"
      }
    },
    {
      "cell_type": "code",
      "source": [
        "#Hago una copia de mi tabla original luego de aplicar PCA\n",
        "\n",
        "\n",
        "X_train3=X_train\n",
        "\n",
        "\n",
        "#Ejecuto el algoritmo de K-Means para k=3 y obtengo los centroides\n",
        "\n",
        "kmeans3 = KMeans(n_clusters=3).fit(X_train3) #mi X\n",
        "centroids = kmeans3.cluster_centers_\n",
        "print(centroids)\n",
        "\n",
        "# Predicting the clusters\n",
        "labels3 = kmeans3.predict(X_train3) #mi Y"
      ],
      "metadata": {
        "colab": {
          "base_uri": "https://localhost:8080/"
        },
        "id": "o4cvhjayxRFw",
        "outputId": "e13ea7d2-b1f1-46fd-e315-fd1f170280c0"
      },
      "execution_count": null,
      "outputs": [
        {
          "output_type": "stream",
          "name": "stdout",
          "text": [
            "[[-4.43521745e-01 -5.58080508e-02  2.36501248e+00]\n",
            " [ 1.22451276e-01  4.66944556e-02  1.00000000e+00]\n",
            " [ 6.09715286e-01  3.02678099e-02 -3.55271368e-14]]\n"
          ]
        }
      ]
    },
    {
      "cell_type": "code",
      "source": [
        "#Agrego mi Y a la tabla principal\n",
        "X_train3['pred']=labels3\n",
        "\n",
        "#Necesito convertir mi dataframe a un numpy array para luego poder graficar\n",
        "X_train3_scatter=X_train3.values\n",
        "\n",
        "plt.scatter(X_train3_scatter[labels3 == 0, 0], X_train3_scatter[labels3 == 0, 1], s = 100, c = 'red', label = 'Cluster 1')\n",
        "plt.scatter(X_train3_scatter[labels3 == 1, 0], X_train3_scatter[labels3 == 1, 1], s = 100, c = 'blue', label = 'Cluster 2')\n",
        "plt.scatter(X_train3_scatter[labels3 == 2, 0], X_train3_scatter[labels3 == 2, 1], s = 100, c = 'green', label = 'Cluster 3')\n",
        "\n",
        "\n",
        "plt.scatter(kmeans3.cluster_centers_[:, 0], kmeans3.cluster_centers_[:, 1], s = 300, c = 'yellow', label = 'Centroids')\n",
        "\n",
        "plt.title('Clusters of customers')\n",
        "\n",
        "plt.legend()\n",
        "plt.show()\n",
        "\n"
      ],
      "metadata": {
        "colab": {
          "base_uri": "https://localhost:8080/",
          "height": 284
        },
        "id": "AtH7yQ3dFral",
        "outputId": "09903c50-16e0-4279-8d81-d211c2957d89"
      },
      "execution_count": null,
      "outputs": [
        {
          "output_type": "display_data",
          "data": {
            "text/plain": [
              "<Figure size 432x288 with 1 Axes>"
            ],
            "image/png": "[encoded data removed]"
          },
          "metadata": {}
        }
      ]
    },
    {
      "cell_type": "code",
      "source": [
        "# DB index para K=5\n",
        "print(davies_bouldin_score(X_train5, labels5))"
      ],
      "metadata": {
        "colab": {
          "base_uri": "https://localhost:8080/"
        },
        "id": "kyIA6Xo3YbX8",
        "outputId": "2a832846-76d5-4e08-8dab-bb4aaf57c2b2"
      },
      "execution_count": null,
      "outputs": [
        {
          "output_type": "stream",
          "name": "stdout",
          "text": [
            "0.4403088907157883\n"
          ]
        }
      ]
    },
    {
      "cell_type": "code",
      "source": [
        "# DB index para K=4\n",
        "print(davies_bouldin_score(X_train4, labels4))"
      ],
      "metadata": {
        "colab": {
          "base_uri": "https://localhost:8080/"
        },
        "id": "wGIb1TibYyi8",
        "outputId": "36f379b2-53e4-4845-dc7c-4ed3da1d346a"
      },
      "execution_count": null,
      "outputs": [
        {
          "output_type": "stream",
          "name": "stdout",
          "text": [
            "0.4954236784153046\n"
          ]
        }
      ]
    },
    {
      "cell_type": "code",
      "source": [
        "# DB index para K=3\n",
        "print(davies_bouldin_score(X_train3, labels3))"
      ],
      "metadata": {
        "colab": {
          "base_uri": "https://localhost:8080/"
        },
        "id": "yXN9sKxOZBYM",
        "outputId": "5d6cd2ae-a05d-4e3f-feeb-f683a79b6754"
      },
      "execution_count": null,
      "outputs": [
        {
          "output_type": "stream",
          "name": "stdout",
          "text": [
            "0.6575063155819018\n"
          ]
        }
      ]
    },
    {
      "cell_type": "markdown",
      "source": [
        "\n",
        "\n",
        "---\n",
        "\n",
        "\n",
        "\n",
        "> A pesar de que, inicialmente, el método del codo indicaba como k ideal un valor entre 3 y 5, se puede ver gráficamente que al elegir k=5, las observaciones se ubican más ordenadamente alrededor de los centroides. Sumado a esto, si se utiliza el **DB Index** para entender cuál es el k más apropiado, podemos confirmar que k=5 sigue siendo la mejor opción, puesto que posee el menor DB index.\n",
        "\n"
      ],
      "metadata": {
        "id": "Gi6BqkUyr6ca"
      }
    },
    {
      "cell_type": "markdown",
      "source": [
        "**Evaluación del modelo**\n",
        "\n",
        "Repetimos el proceso anterior pero utilizando nuestra muestra reservada para el testeo"
      ],
      "metadata": {
        "id": "jbql7KpyGHL2"
      }
    },
    {
      "cell_type": "code",
      "source": [
        "Nc = range(1, 11)\n",
        "kmeans = [KMeans(n_clusters=i) for i in Nc]\n",
        "kmeans\n",
        "score = [kmeans[i].fit(X_test).score(X_test) for i in range(len(kmeans))]\n",
        "score\n",
        "plt.plot(Nc,score)\n",
        "plt.xlabel('Number of Clusters')\n",
        "plt.ylabel('Score')\n",
        "plt.title('Elbow Curve')\n",
        "plt.show()"
      ],
      "metadata": {
        "colab": {
          "base_uri": "https://localhost:8080/",
          "height": 301
        },
        "id": "DrNVnHuiGVeq",
        "outputId": "45d17846-81af-415a-b74f-3bdeb470ac0a"
      },
      "execution_count": null,
      "outputs": [
        {
          "output_type": "display_data",
          "data": {
            "text/plain": [
              "<Figure size 432x288 with 1 Axes>"
            ],
            "image/png": "[encoded data removed]"
          },
          "metadata": {}
        }
      ]
    },
    {
      "cell_type": "markdown",
      "source": [
        "*   K=5\n",
        "\n"
      ],
      "metadata": {
        "id": "g-vULznjPPRy"
      }
    },
    {
      "cell_type": "code",
      "source": [
        "#Hago una copia de mi tabla original luego de aplicar PCA\n",
        "\n",
        "X_test5=X_test\n",
        "#Ejecuto el algoritmo de K-Means para k=5 \n",
        "\n",
        "kmeans5 = KMeans(n_clusters=5).fit(X_test5) #mi X\n",
        "centroids = kmeans5.cluster_centers_\n",
        "print(centroids)\n",
        "\n",
        "# Predicting the clusters\n",
        "labels5 = kmeans5.predict(X_test5) #mi Y"
      ],
      "metadata": {
        "colab": {
          "base_uri": "https://localhost:8080/"
        },
        "id": "o77Oce4ZMDlk",
        "outputId": "8fa8cb38-203d-4521-a77c-01660dd10bb1"
      },
      "execution_count": null,
      "outputs": [
        {
          "output_type": "stream",
          "name": "stdout",
          "text": [
            "[[ 0.12268454 -0.19927639]\n",
            " [ 0.59467436  0.01775354]\n",
            " [-0.5668842   0.49050473]\n",
            " [-0.37839964 -0.37149129]\n",
            " [ 0.05923011  0.68300643]]\n"
          ]
        }
      ]
    },
    {
      "cell_type": "code",
      "source": [
        "#Agrego mi Y a la tabla principal\n",
        "X_test5['pred']=labels5\n",
        "\n",
        "#Necesito convertir mi dataframe a un numpy array para luego poder graficar\n",
        "X_test5_scatter=X_test5.values\n",
        "\n",
        "#Genero el scatter para ver cómo quedaron armados los clusters\n",
        "plt.scatter(X_test5_scatter[labels5 == 0, 0], X_test5_scatter[labels5 == 0, 1], s = 100, c = 'red', label = 'Cluster 1')\n",
        "plt.scatter(X_test5_scatter[labels5 == 1, 0], X_test5_scatter[labels5 == 1, 1], s = 100, c = 'blue', label = 'Cluster 2')\n",
        "plt.scatter(X_test5_scatter[labels5 == 2, 0], X_test5_scatter[labels5 == 2, 1], s = 100, c = 'green', label = 'Cluster 3')\n",
        "plt.scatter(X_test5_scatter[labels5 == 3, 0], X_test5_scatter[labels5 == 3, 1], s = 100, c = 'cyan', label = 'Cluster 4')\n",
        "plt.scatter(X_test5_scatter[labels5 == 4, 0], X_test5_scatter[labels5 == 4, 1], s = 100, c = 'purple', label = 'Cluster 5')\n",
        "\n",
        "plt.scatter(kmeans5.cluster_centers_[:, 0], kmeans5.cluster_centers_[:, 1], s = 300, c = 'yellow', label = 'Centroids')\n",
        "\n",
        "plt.title('Clusters of customers')\n",
        "plt.legend()\n",
        "plt.show()"
      ],
      "metadata": {
        "colab": {
          "base_uri": "https://localhost:8080/",
          "height": 284
        },
        "id": "aqwz0PDsPsQg",
        "outputId": "db3d1865-66ba-44e3-c08d-94723495b084"
      },
      "execution_count": null,
      "outputs": [
        {
          "output_type": "display_data",
          "data": {
            "text/plain": [
              "<Figure size 432x288 with 1 Axes>"
            ],
            "image/png": "[encoded data removed]"
          },
          "metadata": {}
        }
      ]
    },
    {
      "cell_type": "markdown",
      "source": [
        "\n",
        "\n",
        "*   K=4\n",
        "\n"
      ],
      "metadata": {
        "id": "d7sasHxxQRO5"
      }
    },
    {
      "cell_type": "code",
      "source": [
        "#Hago una copia de mi tabla original luego de aplicar PCA\n",
        "\n",
        "X_test4=X_test\n",
        "\n",
        "\n",
        "#Ejecuto el algoritmo de K-Means para k=4 y obtengo los centroides\n",
        "\n",
        "kmeans4 = KMeans(n_clusters=4).fit(X_test4) #mi X\n",
        "centroids = kmeans4.cluster_centers_\n",
        "print(centroids)\n",
        "\n",
        "# Predicting the clusters\n",
        "labels4 = kmeans4.predict(X_test4) #mi Y"
      ],
      "metadata": {
        "colab": {
          "base_uri": "https://localhost:8080/"
        },
        "id": "cJJq_oQvQUoL",
        "outputId": "c1ae0cf2-6066-4e57-f932-84b8b19d058b"
      },
      "execution_count": null,
      "outputs": [
        {
          "output_type": "stream",
          "name": "stdout",
          "text": [
            "[[ 0.34918623 -0.0951603   0.47971145]\n",
            " [-0.37826592 -0.37139784  3.        ]\n",
            " [-0.56629847  0.49078488  2.        ]\n",
            " [ 0.06026545  0.68316367  4.        ]]\n"
          ]
        }
      ]
    },
    {
      "cell_type": "code",
      "source": [
        "#Agrego mi Y a la tabla principal\n",
        "X_test4['pred']=labels4\n",
        "\n",
        "#Necesito convertir mi dataframe a un numpy array para luego poder graficar\n",
        "X_test4_scatter=X_test4.values\n",
        "\n",
        "plt.scatter(X_test4_scatter[labels4 == 0, 0], X_test4_scatter[labels4 == 0, 1], s = 100, c = 'red', label = 'Cluster 1')\n",
        "plt.scatter(X_test4_scatter[labels4 == 1, 0], X_test4_scatter[labels4 == 1, 1], s = 100, c = 'blue', label = 'Cluster 2')\n",
        "plt.scatter(X_test4_scatter[labels4 == 2, 0], X_test4_scatter[labels4 == 2, 1], s = 100, c = 'green', label = 'Cluster 3')\n",
        "plt.scatter(X_test4_scatter[labels4 == 3, 0], X_test4_scatter[labels4 == 3, 1], s = 100, c = 'cyan', label = 'Cluster 4')\n",
        "\n",
        "\n",
        "plt.scatter(kmeans4.cluster_centers_[:, 0], kmeans4.cluster_centers_[:, 1], s = 300, c = 'yellow', label = 'Centroids')\n",
        "\n",
        "plt.title('Clusters of customers')\n",
        "\n",
        "plt.legend()\n",
        "plt.show()\n"
      ],
      "metadata": {
        "colab": {
          "base_uri": "https://localhost:8080/",
          "height": 284
        },
        "id": "xj2P_vueQoRQ",
        "outputId": "5a13f318-41c3-47ab-e40d-c5de1b83377d"
      },
      "execution_count": null,
      "outputs": [
        {
          "output_type": "display_data",
          "data": {
            "text/plain": [
              "<Figure size 432x288 with 1 Axes>"
            ],
            "image/png": "[encoded data removed]"
          },
          "metadata": {}
        }
      ]
    },
    {
      "cell_type": "markdown",
      "source": [
        "\n",
        "\n",
        "*   K=3\n",
        "\n"
      ],
      "metadata": {
        "id": "3WItkLDWQ7Zr"
      }
    },
    {
      "cell_type": "code",
      "source": [
        "#Hago una copia de mi tabla original luego de aplicar PCA\n",
        "X_test3=X_test\n",
        "\n",
        "#Ejecuto el algoritmo de K-Means para k=3 y obtengo los centroides\n",
        "\n",
        "kmeans3 = KMeans(n_clusters=3).fit(X_test3) #mi X\n",
        "centroids = kmeans3.cluster_centers_\n",
        "print(centroids)\n",
        "\n",
        "# Predicting the clusters\n",
        "labels3 = kmeans3.predict(X_test3) #mi Y"
      ],
      "metadata": {
        "colab": {
          "base_uri": "https://localhost:8080/"
        },
        "id": "qgzaVSrtQ-Ix",
        "outputId": "be63b732-b44a-4c53-a85c-bb03025115ce"
      },
      "execution_count": null,
      "outputs": [
        {
          "output_type": "stream",
          "name": "stdout",
          "text": [
            "[[-3.78265923e-01 -3.71397842e-01  1.00000000e+00]\n",
            " [-3.26216772e-01  5.64499028e-01  2.38317191e+00]\n",
            " [ 3.49186230e-01 -9.51602971e-02  2.62012634e-14]]\n"
          ]
        }
      ]
    },
    {
      "cell_type": "code",
      "source": [
        "#Agrego mi Y a la tabla principal\n",
        "X_test3['pred']=labels3\n",
        "\n",
        "#Necesito convertir mi dataframe a un numpy array para luego poder graficar\n",
        "X_test3_scatter=X_test3.values\n",
        "\n",
        "plt.scatter(X_test3_scatter[labels3 == 0, 0], X_test3_scatter[labels3 == 0, 1], s = 100, c = 'red', label = 'Cluster 1')\n",
        "plt.scatter(X_test3_scatter[labels3 == 1, 0], X_test3_scatter[labels3 == 1, 1], s = 100, c = 'blue', label = 'Cluster 2')\n",
        "plt.scatter(X_test3_scatter[labels3 == 2, 0], X_test3_scatter[labels3 == 2, 1], s = 100, c = 'green', label = 'Cluster 3')\n",
        "\n",
        "\n",
        "plt.scatter(kmeans3.cluster_centers_[:, 0], kmeans3.cluster_centers_[:, 1], s = 300, c = 'yellow', label = 'Centroids')\n",
        "\n",
        "plt.title('Clusters of customers')\n",
        "\n",
        "plt.legend()\n",
        "plt.show()\n"
      ],
      "metadata": {
        "colab": {
          "base_uri": "https://localhost:8080/",
          "height": 284
        },
        "id": "J8n43-TiRQsH",
        "outputId": "17e08740-d3eb-4325-fc77-9da98ecdd526"
      },
      "execution_count": null,
      "outputs": [
        {
          "output_type": "display_data",
          "data": {
            "text/plain": [
              "<Figure size 432x288 with 1 Axes>"
            ],
            "image/png": "[encoded data removed]"
          },
          "metadata": {}
        }
      ]
    },
    {
      "cell_type": "code",
      "source": [
        "# DB index para K=5\n",
        "print(davies_bouldin_score(X_test5, labels5))"
      ],
      "metadata": {
        "colab": {
          "base_uri": "https://localhost:8080/"
        },
        "id": "pAeRd2vmRph1",
        "outputId": "32bc1391-8ea0-475a-a83c-0a9d0a483e31"
      },
      "execution_count": null,
      "outputs": [
        {
          "output_type": "stream",
          "name": "stdout",
          "text": [
            "0.6039763742366231\n"
          ]
        }
      ]
    },
    {
      "cell_type": "code",
      "source": [
        "# DB index para K=4\n",
        "print(davies_bouldin_score(X_test4, labels4))"
      ],
      "metadata": {
        "colab": {
          "base_uri": "https://localhost:8080/"
        },
        "id": "H_RiJDlPRt0j",
        "outputId": "c6af4c31-2626-4ade-b19f-c913c9a767f8"
      },
      "execution_count": null,
      "outputs": [
        {
          "output_type": "stream",
          "name": "stdout",
          "text": [
            "0.4949750922494106\n"
          ]
        }
      ]
    },
    {
      "cell_type": "code",
      "source": [
        "# DB index para K=3\n",
        "print(davies_bouldin_score(X_test3, labels3))"
      ],
      "metadata": {
        "colab": {
          "base_uri": "https://localhost:8080/"
        },
        "id": "YRipkgHIRxlt",
        "outputId": "9c200d6f-954d-49fe-cedc-b4f2f8a26d4e"
      },
      "execution_count": null,
      "outputs": [
        {
          "output_type": "stream",
          "name": "stdout",
          "text": [
            "0.4428434304402242\n"
          ]
        }
      ]
    },
    {
      "cell_type": "markdown",
      "source": [
        "Sorpresivamente, al evaluar el modelo con la muestra de test, los puntos se agrupan de manera mucho más ordenada alrededor de los centroides, ya sea que lo evaluemos para k=3, 4 o 5. A priori, si solo nos basamos en las gráficas, sería difícil determinar cual es el mejor K para el modelo, puesto que en todos los casos, los puntos quedan bien agrupados alrededor de los K's. Por esto, recurrimos nuevamente a las métricas de evaluación, en este caso el DB Index, y nos encontramos con que el resultado es completamente opuesto al que se obtuvo al entrenar el modelo. Ahora, es el K=3 el que posee menor DB Index, es decir, es el 'ideal'"
      ],
      "metadata": {
        "id": "RvhJt4B7R8dz"
      }
    },
    {
      "cell_type": "markdown",
      "source": [
        "**Next steps**\n",
        "\n",
        "\n",
        "*   Evaluar si es posible mejorar el desempeño mediante el ajuste de los hiperparametros\n",
        "*   Recurrir al método de cross fold validation para evaluar de manera más eficaz el desempeño del modelo\n",
        "\n"
      ],
      "metadata": {
        "id": "RMMMgnMCxe39"
      }
    }
  ]
}